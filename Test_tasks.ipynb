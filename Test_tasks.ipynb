{
 "cells": [
  {
   "cell_type": "markdown",
   "metadata": {},
   "source": [
    "Имортирую нужные для работы библиотеки"
   ]
  },
  {
   "cell_type": "code",
   "execution_count": 388,
   "metadata": {},
   "outputs": [],
   "source": [
    "import pandas as pd\n",
    "import seaborn as sns\n",
    "import re\n",
    "from statsmodels.tsa.holtwinters import ExponentialSmoothing\n",
    "import matplotlib.pyplot as plt"
   ]
  },
  {
   "cell_type": "markdown",
   "metadata": {},
   "source": [
    "Считываю ссылку, предоставленную для задания №1 и задания №2"
   ]
  },
  {
   "cell_type": "code",
   "execution_count": 390,
   "metadata": {},
   "outputs": [],
   "source": [
    "url = \"https://docs.google.com/spreadsheets/d/1jSzvqVkgZhRzAZ07H5aLerPa4TMop0vNMwjug2uw9DA/export?format=csv&gid=812556653\""
   ]
  },
  {
   "cell_type": "code",
   "execution_count": 391,
   "metadata": {},
   "outputs": [],
   "source": [
    "# считываю данные, заменяю пробелы в названиях столбцов\n",
    "data = pd.read_csv(url, delimiter=\",\", on_bad_lines='skip')\n",
    "data.columns = data.columns.str.replace('\\xa0', ' ')"
   ]
  },
  {
   "cell_type": "code",
   "execution_count": 392,
   "metadata": {},
   "outputs": [
    {
     "data": {
      "text/html": [
       "<div>\n",
       "<style scoped>\n",
       "    .dataframe tbody tr th:only-of-type {\n",
       "        vertical-align: middle;\n",
       "    }\n",
       "\n",
       "    .dataframe tbody tr th {\n",
       "        vertical-align: top;\n",
       "    }\n",
       "\n",
       "    .dataframe thead th {\n",
       "        text-align: right;\n",
       "    }\n",
       "</style>\n",
       "<table border=\"1\" class=\"dataframe\">\n",
       "  <thead>\n",
       "    <tr style=\"text-align: right;\">\n",
       "      <th></th>\n",
       "      <th>id лида</th>\n",
       "      <th>Язык лида</th>\n",
       "      <th>Год заявки</th>\n",
       "      <th>Квартал заявки</th>\n",
       "      <th>Страна покупки или заявки</th>\n",
       "      <th>Цена сделки или бюджет, €</th>\n",
       "      <th>Год сделки</th>\n",
       "      <th>Квартал сделки</th>\n",
       "      <th>Страна покупки</th>\n",
       "    </tr>\n",
       "  </thead>\n",
       "  <tbody>\n",
       "    <tr>\n",
       "      <th>0</th>\n",
       "      <td>52216</td>\n",
       "      <td>ru</td>\n",
       "      <td>2017</td>\n",
       "      <td>3</td>\n",
       "      <td>Грузия</td>\n",
       "      <td>NaN</td>\n",
       "      <td>NaN</td>\n",
       "      <td>NaN</td>\n",
       "      <td>NaN</td>\n",
       "    </tr>\n",
       "    <tr>\n",
       "      <th>1</th>\n",
       "      <td>52529</td>\n",
       "      <td>ru</td>\n",
       "      <td>2017</td>\n",
       "      <td>3</td>\n",
       "      <td>Португалия</td>\n",
       "      <td>400000.0</td>\n",
       "      <td>NaN</td>\n",
       "      <td>NaN</td>\n",
       "      <td>NaN</td>\n",
       "    </tr>\n",
       "    <tr>\n",
       "      <th>2</th>\n",
       "      <td>50573</td>\n",
       "      <td>ru</td>\n",
       "      <td>2017</td>\n",
       "      <td>2</td>\n",
       "      <td>США</td>\n",
       "      <td>125122.0</td>\n",
       "      <td>NaN</td>\n",
       "      <td>NaN</td>\n",
       "      <td>NaN</td>\n",
       "    </tr>\n",
       "    <tr>\n",
       "      <th>3</th>\n",
       "      <td>40445</td>\n",
       "      <td>ru</td>\n",
       "      <td>2017</td>\n",
       "      <td>1</td>\n",
       "      <td>Латвия</td>\n",
       "      <td>300000.0</td>\n",
       "      <td>NaN</td>\n",
       "      <td>NaN</td>\n",
       "      <td>NaN</td>\n",
       "    </tr>\n",
       "    <tr>\n",
       "      <th>4</th>\n",
       "      <td>64589</td>\n",
       "      <td>ru</td>\n",
       "      <td>2017</td>\n",
       "      <td>4</td>\n",
       "      <td>Испания</td>\n",
       "      <td>130000.0</td>\n",
       "      <td>NaN</td>\n",
       "      <td>NaN</td>\n",
       "      <td>NaN</td>\n",
       "    </tr>\n",
       "  </tbody>\n",
       "</table>\n",
       "</div>"
      ],
      "text/plain": [
       "   id лида Язык лида  Год заявки  Квартал заявки Страна покупки или заявки  \\\n",
       "0    52216        ru        2017               3                    Грузия   \n",
       "1    52529        ru        2017               3                Португалия   \n",
       "2    50573        ru        2017               2                       США   \n",
       "3    40445        ru        2017               1                    Латвия   \n",
       "4    64589        ru        2017               4                   Испания   \n",
       "\n",
       "   Цена сделки или бюджет, €  Год сделки  Квартал сделки Страна покупки  \n",
       "0                        NaN         NaN             NaN            NaN  \n",
       "1                   400000.0         NaN             NaN            NaN  \n",
       "2                   125122.0         NaN             NaN            NaN  \n",
       "3                   300000.0         NaN             NaN            NaN  \n",
       "4                   130000.0         NaN             NaN            NaN  "
      ]
     },
     "execution_count": 392,
     "metadata": {},
     "output_type": "execute_result"
    }
   ],
   "source": [
    "data.head()"
   ]
  },
  {
   "cell_type": "markdown",
   "metadata": {},
   "source": [
    "## Задание 1"
   ]
  },
  {
   "cell_type": "markdown",
   "metadata": {},
   "source": [
    "Посчитайте кумулятивную конверсию из лидов в сделку для Таиланда.\n",
    "Периоды создания/закрытия – кварталы годов.\n"
   ]
  },
  {
   "cell_type": "markdown",
   "metadata": {},
   "source": [
    "Отфильтрую строки, где в столбце \"Страна покупки или заявки\" указана \"Таиланд\", буду использовать регулярные варыжения, так как в столбце со страной есть значения, содержащие 2 страны."
   ]
  },
  {
   "cell_type": "code",
   "execution_count": 393,
   "metadata": {},
   "outputs": [],
   "source": [
    "thailand_data = data[data['Страна покупки или заявки'].str.contains(r'.*Таиланд.*', na=False, regex=True)]"
   ]
  },
  {
   "cell_type": "code",
   "execution_count": 394,
   "metadata": {},
   "outputs": [
    {
     "data": {
      "text/html": [
       "<div>\n",
       "<style scoped>\n",
       "    .dataframe tbody tr th:only-of-type {\n",
       "        vertical-align: middle;\n",
       "    }\n",
       "\n",
       "    .dataframe tbody tr th {\n",
       "        vertical-align: top;\n",
       "    }\n",
       "\n",
       "    .dataframe thead th {\n",
       "        text-align: right;\n",
       "    }\n",
       "</style>\n",
       "<table border=\"1\" class=\"dataframe\">\n",
       "  <thead>\n",
       "    <tr style=\"text-align: right;\">\n",
       "      <th></th>\n",
       "      <th>id лида</th>\n",
       "      <th>Язык лида</th>\n",
       "      <th>Год заявки</th>\n",
       "      <th>Квартал заявки</th>\n",
       "      <th>Страна покупки или заявки</th>\n",
       "      <th>Цена сделки или бюджет, €</th>\n",
       "      <th>Год сделки</th>\n",
       "      <th>Квартал сделки</th>\n",
       "      <th>Страна покупки</th>\n",
       "    </tr>\n",
       "  </thead>\n",
       "  <tbody>\n",
       "    <tr>\n",
       "      <th>17</th>\n",
       "      <td>55144</td>\n",
       "      <td>ru</td>\n",
       "      <td>2017</td>\n",
       "      <td>3</td>\n",
       "      <td>Таиланд</td>\n",
       "      <td>227000.0</td>\n",
       "      <td>NaN</td>\n",
       "      <td>NaN</td>\n",
       "      <td>NaN</td>\n",
       "    </tr>\n",
       "    <tr>\n",
       "      <th>41</th>\n",
       "      <td>46343</td>\n",
       "      <td>ru</td>\n",
       "      <td>2017</td>\n",
       "      <td>2</td>\n",
       "      <td>Таиланд</td>\n",
       "      <td>170295.0</td>\n",
       "      <td>NaN</td>\n",
       "      <td>NaN</td>\n",
       "      <td>NaN</td>\n",
       "    </tr>\n",
       "    <tr>\n",
       "      <th>64</th>\n",
       "      <td>49893</td>\n",
       "      <td>ru</td>\n",
       "      <td>2017</td>\n",
       "      <td>2</td>\n",
       "      <td>Таиланд</td>\n",
       "      <td>100000.0</td>\n",
       "      <td>NaN</td>\n",
       "      <td>NaN</td>\n",
       "      <td>NaN</td>\n",
       "    </tr>\n",
       "    <tr>\n",
       "      <th>73</th>\n",
       "      <td>67171</td>\n",
       "      <td>ru</td>\n",
       "      <td>2017</td>\n",
       "      <td>4</td>\n",
       "      <td>Таиланд</td>\n",
       "      <td>362799.0</td>\n",
       "      <td>NaN</td>\n",
       "      <td>NaN</td>\n",
       "      <td>NaN</td>\n",
       "    </tr>\n",
       "    <tr>\n",
       "      <th>81</th>\n",
       "      <td>43587</td>\n",
       "      <td>ru</td>\n",
       "      <td>2017</td>\n",
       "      <td>1</td>\n",
       "      <td>Таиланд</td>\n",
       "      <td>NaN</td>\n",
       "      <td>NaN</td>\n",
       "      <td>NaN</td>\n",
       "      <td>NaN</td>\n",
       "    </tr>\n",
       "  </tbody>\n",
       "</table>\n",
       "</div>"
      ],
      "text/plain": [
       "    id лида Язык лида  Год заявки  Квартал заявки Страна покупки или заявки  \\\n",
       "17    55144        ru        2017               3                   Таиланд   \n",
       "41    46343        ru        2017               2                   Таиланд   \n",
       "64    49893        ru        2017               2                   Таиланд   \n",
       "73    67171        ru        2017               4                   Таиланд   \n",
       "81    43587        ru        2017               1                   Таиланд   \n",
       "\n",
       "    Цена сделки или бюджет, €  Год сделки  Квартал сделки Страна покупки  \n",
       "17                   227000.0         NaN             NaN            NaN  \n",
       "41                   170295.0         NaN             NaN            NaN  \n",
       "64                   100000.0         NaN             NaN            NaN  \n",
       "73                   362799.0         NaN             NaN            NaN  \n",
       "81                        NaN         NaN             NaN            NaN  "
      ]
     },
     "execution_count": 394,
     "metadata": {},
     "output_type": "execute_result"
    }
   ],
   "source": [
    "thailand_data.head(5)"
   ]
  },
  {
   "cell_type": "markdown",
   "metadata": {},
   "source": [
    "Сгруппирую данные по году и кварталу подачи заявки и сделки"
   ]
  },
  {
   "cell_type": "code",
   "execution_count": 395,
   "metadata": {},
   "outputs": [],
   "source": [
    "grouped_data = thailand_data.groupby(['Год заявки', 'Квартал заявки']).agg(\n",
    "    leads=('id лида', 'count'), \n",
    "    deals=('Год сделки', lambda x: x.notna().sum()) \n",
    ").reset_index()"
   ]
  },
  {
   "cell_type": "markdown",
   "metadata": {},
   "source": [
    "Вычисляю кумулятивную конверсию как отношение количества сделок к количеству лидов"
   ]
  },
  {
   "cell_type": "code",
   "execution_count": 396,
   "metadata": {},
   "outputs": [],
   "source": [
    "# создаю столбцы с кумулятивными данными\n",
    "grouped_data['cumulative_leads'] = grouped_data['leads'].cumsum()\n",
    "grouped_data['cumulative_deals'] = grouped_data['deals'].cumsum()\n",
    "\n",
    "# расчитываю кумулятивную конверсию\n",
    "grouped_data['cumulative_conversion'] = (\n",
    "    grouped_data['cumulative_deals'] / grouped_data['cumulative_leads']\n",
    ")\n"
   ]
  },
  {
   "cell_type": "markdown",
   "metadata": {},
   "source": [
    "Выведу результаты"
   ]
  },
  {
   "cell_type": "code",
   "execution_count": 397,
   "metadata": {},
   "outputs": [
    {
     "data": {
      "text/html": [
       "<div>\n",
       "<style scoped>\n",
       "    .dataframe tbody tr th:only-of-type {\n",
       "        vertical-align: middle;\n",
       "    }\n",
       "\n",
       "    .dataframe tbody tr th {\n",
       "        vertical-align: top;\n",
       "    }\n",
       "\n",
       "    .dataframe thead th {\n",
       "        text-align: right;\n",
       "    }\n",
       "</style>\n",
       "<table border=\"1\" class=\"dataframe\">\n",
       "  <thead>\n",
       "    <tr style=\"text-align: right;\">\n",
       "      <th></th>\n",
       "      <th>Год заявки</th>\n",
       "      <th>Квартал заявки</th>\n",
       "      <th>leads</th>\n",
       "      <th>deals</th>\n",
       "      <th>cumulative_leads</th>\n",
       "      <th>cumulative_deals</th>\n",
       "      <th>cumulative_conversion</th>\n",
       "    </tr>\n",
       "  </thead>\n",
       "  <tbody>\n",
       "    <tr>\n",
       "      <th>0</th>\n",
       "      <td>2017</td>\n",
       "      <td>1</td>\n",
       "      <td>20</td>\n",
       "      <td>0</td>\n",
       "      <td>20</td>\n",
       "      <td>0</td>\n",
       "      <td>0.000000</td>\n",
       "    </tr>\n",
       "    <tr>\n",
       "      <th>1</th>\n",
       "      <td>2017</td>\n",
       "      <td>2</td>\n",
       "      <td>10</td>\n",
       "      <td>0</td>\n",
       "      <td>30</td>\n",
       "      <td>0</td>\n",
       "      <td>0.000000</td>\n",
       "    </tr>\n",
       "    <tr>\n",
       "      <th>2</th>\n",
       "      <td>2017</td>\n",
       "      <td>3</td>\n",
       "      <td>11</td>\n",
       "      <td>0</td>\n",
       "      <td>41</td>\n",
       "      <td>0</td>\n",
       "      <td>0.000000</td>\n",
       "    </tr>\n",
       "    <tr>\n",
       "      <th>3</th>\n",
       "      <td>2017</td>\n",
       "      <td>4</td>\n",
       "      <td>18</td>\n",
       "      <td>0</td>\n",
       "      <td>59</td>\n",
       "      <td>0</td>\n",
       "      <td>0.000000</td>\n",
       "    </tr>\n",
       "    <tr>\n",
       "      <th>4</th>\n",
       "      <td>2018</td>\n",
       "      <td>1</td>\n",
       "      <td>26</td>\n",
       "      <td>0</td>\n",
       "      <td>85</td>\n",
       "      <td>0</td>\n",
       "      <td>0.000000</td>\n",
       "    </tr>\n",
       "    <tr>\n",
       "      <th>5</th>\n",
       "      <td>2018</td>\n",
       "      <td>2</td>\n",
       "      <td>30</td>\n",
       "      <td>1</td>\n",
       "      <td>115</td>\n",
       "      <td>1</td>\n",
       "      <td>0.008696</td>\n",
       "    </tr>\n",
       "    <tr>\n",
       "      <th>6</th>\n",
       "      <td>2018</td>\n",
       "      <td>3</td>\n",
       "      <td>32</td>\n",
       "      <td>3</td>\n",
       "      <td>147</td>\n",
       "      <td>4</td>\n",
       "      <td>0.027211</td>\n",
       "    </tr>\n",
       "    <tr>\n",
       "      <th>7</th>\n",
       "      <td>2018</td>\n",
       "      <td>4</td>\n",
       "      <td>124</td>\n",
       "      <td>6</td>\n",
       "      <td>271</td>\n",
       "      <td>10</td>\n",
       "      <td>0.036900</td>\n",
       "    </tr>\n",
       "    <tr>\n",
       "      <th>8</th>\n",
       "      <td>2019</td>\n",
       "      <td>1</td>\n",
       "      <td>115</td>\n",
       "      <td>2</td>\n",
       "      <td>386</td>\n",
       "      <td>12</td>\n",
       "      <td>0.031088</td>\n",
       "    </tr>\n",
       "    <tr>\n",
       "      <th>9</th>\n",
       "      <td>2019</td>\n",
       "      <td>2</td>\n",
       "      <td>119</td>\n",
       "      <td>6</td>\n",
       "      <td>505</td>\n",
       "      <td>18</td>\n",
       "      <td>0.035644</td>\n",
       "    </tr>\n",
       "  </tbody>\n",
       "</table>\n",
       "</div>"
      ],
      "text/plain": [
       "   Год заявки  Квартал заявки  leads  deals  cumulative_leads  \\\n",
       "0        2017               1     20      0                20   \n",
       "1        2017               2     10      0                30   \n",
       "2        2017               3     11      0                41   \n",
       "3        2017               4     18      0                59   \n",
       "4        2018               1     26      0                85   \n",
       "5        2018               2     30      1               115   \n",
       "6        2018               3     32      3               147   \n",
       "7        2018               4    124      6               271   \n",
       "8        2019               1    115      2               386   \n",
       "9        2019               2    119      6               505   \n",
       "\n",
       "   cumulative_deals  cumulative_conversion  \n",
       "0                 0               0.000000  \n",
       "1                 0               0.000000  \n",
       "2                 0               0.000000  \n",
       "3                 0               0.000000  \n",
       "4                 0               0.000000  \n",
       "5                 1               0.008696  \n",
       "6                 4               0.027211  \n",
       "7                10               0.036900  \n",
       "8                12               0.031088  \n",
       "9                18               0.035644  "
      ]
     },
     "execution_count": 397,
     "metadata": {},
     "output_type": "execute_result"
    }
   ],
   "source": [
    "grouped_data"
   ]
  },
  {
   "cell_type": "markdown",
   "metadata": {},
   "source": [
    "## Задание 2"
   ]
  },
  {
   "cell_type": "markdown",
   "metadata": {},
   "source": [
    "Как изменился спрос на ТОП-5 стран на покупку недвижимости у\n",
    "русскоязычных клиентов в 1 кв. 2019 относительно 1 кв. 2018. Напишите краткое\n",
    "сравнение по ТОП-5 странам. Как изменились медианные/средние бюджеты\n",
    "клиентов по странам. Выбор в пользу какого параметра (медианные/средние)\n",
    "Вы сделали? Почему? "
   ]
  },
  {
   "cell_type": "markdown",
   "metadata": {},
   "source": [
    "Фильтрую данные для 1 квартала 2018 и 2019 годов (рускоязычные)"
   ]
  },
  {
   "cell_type": "code",
   "execution_count": 398,
   "metadata": {},
   "outputs": [],
   "source": [
    "q1_data = data[(data['Квартал заявки'] == 1) & \n",
    "                     (data['Год заявки'].isin([2018, 2019])) & \n",
    "                     (data['Язык лида'] == 'ru')]\n"
   ]
  },
  {
   "cell_type": "markdown",
   "metadata": {},
   "source": [
    "Разделю столбец 'Страна покупки или заявки' на самостоятельные строки."
   ]
  },
  {
   "cell_type": "code",
   "execution_count": 400,
   "metadata": {},
   "outputs": [],
   "source": [
    "# разделяю строки на списки стран\n",
    "q1_data['Страна покупки или заявки'] = q1_data['Страна покупки или заявки'].astype(str).str.split(',')\n",
    "\n",
    "# разделяю списки на отдельные строки\n",
    "q1_data = q1_data.explode('Страна покупки или заявки')\n",
    "\n",
    "# убираю лишние пробелы, если есть\n",
    "q1_data['Страна покупки или заявки'] = q1_data['Страна покупки или заявки'].str.strip()\n"
   ]
  },
  {
   "cell_type": "markdown",
   "metadata": {},
   "source": [
    "Определяю ТОП-5 стран по числу покупок недвижимости"
   ]
  },
  {
   "cell_type": "code",
   "execution_count": 401,
   "metadata": {},
   "outputs": [],
   "source": [
    "top_countries = (\n",
    "    q1_data.groupby('Страна покупки или заявки')\n",
    "    .agg(purchases=('Страна покупки', 'count'))\n",
    "    .sort_values(by='purchases', ascending=False)\n",
    "    .head(5)\n",
    "    .index\n",
    ")"
   ]
  },
  {
   "cell_type": "markdown",
   "metadata": {},
   "source": [
    "Фильтрую данные для ТОП-5 стран"
   ]
  },
  {
   "cell_type": "code",
   "execution_count": 402,
   "metadata": {},
   "outputs": [],
   "source": [
    "top_countries_data = q1_data[q1_data['Страна покупки или заявки'].isin(top_countries)]\n"
   ]
  },
  {
   "cell_type": "markdown",
   "metadata": {},
   "source": [
    "Сравниваю спрос и бюджеты по годам"
   ]
  },
  {
   "cell_type": "code",
   "execution_count": 403,
   "metadata": {},
   "outputs": [],
   "source": [
    "demand_budget_comparison = top_countries_data.groupby(['Год заявки', 'Страна покупки или заявки']).agg(\n",
    "    total_leads=('id лида', 'count'),  # Общее количество заявок\n",
    "    avg_budget=('Цена сделки или бюджет, €', 'mean'),  # Средний бюджет\n",
    "    median_budget=('Цена сделки или бюджет, €', 'median')  # Медианный бюджет\n",
    ").reset_index()\n"
   ]
  },
  {
   "cell_type": "code",
   "execution_count": 404,
   "metadata": {},
   "outputs": [
    {
     "data": {
      "image/png": "[encoded data removed]",
      "text/plain": [
       "<Figure size 1400x800 with 1 Axes>"
      ]
     },
     "metadata": {},
     "output_type": "display_data"
    }
   ],
   "source": [
    "grouped_df = demand_budget_comparison.groupby(['Страна покупки или заявки', 'Год заявки'])['median_budget'].median().unstack()\n",
    "\n",
    "# Строю график сравнения\n",
    "grouped_df.plot(kind='bar', figsize=(14, 8))\n",
    "plt.title('Median Budget Comparison by Country (2018 vs 2019)', fontsize=16)\n",
    "plt.xlabel('Country', fontsize=14)\n",
    "plt.ylabel('Median Budget', fontsize=14)\n",
    "plt.xticks(rotation=45, ha='right')\n",
    "plt.legend(title='Year', fontsize=12)\n",
    "plt.tight_layout()\n",
    "plt.show()"
   ]
  },
  {
   "cell_type": "markdown",
   "metadata": {},
   "source": [
    "Преобразовываю данные для удобного сравнения"
   ]
  },
  {
   "cell_type": "code",
   "execution_count": 405,
   "metadata": {},
   "outputs": [],
   "source": [
    "comparison_pivot = demand_budget_comparison.pivot(index='Страна покупки или заявки', \n",
    "                                                  columns='Год заявки', \n",
    "                                                  values=['total_leads', 'avg_budget', 'median_budget'])\n"
   ]
  },
  {
   "cell_type": "code",
   "execution_count": 406,
   "metadata": {},
   "outputs": [
    {
     "data": {
      "text/html": [
       "<div>\n",
       "<style scoped>\n",
       "    .dataframe tbody tr th:only-of-type {\n",
       "        vertical-align: middle;\n",
       "    }\n",
       "\n",
       "    .dataframe tbody tr th {\n",
       "        vertical-align: top;\n",
       "    }\n",
       "\n",
       "    .dataframe thead tr th {\n",
       "        text-align: left;\n",
       "    }\n",
       "\n",
       "    .dataframe thead tr:last-of-type th {\n",
       "        text-align: right;\n",
       "    }\n",
       "</style>\n",
       "<table border=\"1\" class=\"dataframe\">\n",
       "  <thead>\n",
       "    <tr>\n",
       "      <th></th>\n",
       "      <th colspan=\"2\" halign=\"left\">total_leads</th>\n",
       "      <th colspan=\"2\" halign=\"left\">avg_budget</th>\n",
       "      <th colspan=\"2\" halign=\"left\">median_budget</th>\n",
       "    </tr>\n",
       "    <tr>\n",
       "      <th>Год заявки</th>\n",
       "      <th>2018</th>\n",
       "      <th>2019</th>\n",
       "      <th>2018</th>\n",
       "      <th>2019</th>\n",
       "      <th>2018</th>\n",
       "      <th>2019</th>\n",
       "    </tr>\n",
       "    <tr>\n",
       "      <th>Страна покупки или заявки</th>\n",
       "      <th></th>\n",
       "      <th></th>\n",
       "      <th></th>\n",
       "      <th></th>\n",
       "      <th></th>\n",
       "      <th></th>\n",
       "    </tr>\n",
       "  </thead>\n",
       "  <tbody>\n",
       "    <tr>\n",
       "      <th>Кипр</th>\n",
       "      <td>42.0</td>\n",
       "      <td>81.0</td>\n",
       "      <td>4.849256e+05</td>\n",
       "      <td>3.810740e+05</td>\n",
       "      <td>300000.0</td>\n",
       "      <td>270000.0</td>\n",
       "    </tr>\n",
       "    <tr>\n",
       "      <th>Киргизия</th>\n",
       "      <td>1.0</td>\n",
       "      <td>5.0</td>\n",
       "      <td>3.600000e+04</td>\n",
       "      <td>9.003800e+04</td>\n",
       "      <td>36000.0</td>\n",
       "      <td>21672.0</td>\n",
       "    </tr>\n",
       "    <tr>\n",
       "      <th>ОАЭ</th>\n",
       "      <td>47.0</td>\n",
       "      <td>245.0</td>\n",
       "      <td>1.061385e+06</td>\n",
       "      <td>3.487962e+05</td>\n",
       "      <td>264435.0</td>\n",
       "      <td>240000.0</td>\n",
       "    </tr>\n",
       "    <tr>\n",
       "      <th>Турция</th>\n",
       "      <td>134.0</td>\n",
       "      <td>134.0</td>\n",
       "      <td>3.454799e+05</td>\n",
       "      <td>1.039174e+06</td>\n",
       "      <td>120000.0</td>\n",
       "      <td>150000.0</td>\n",
       "    </tr>\n",
       "    <tr>\n",
       "      <th>Черногория</th>\n",
       "      <td>36.0</td>\n",
       "      <td>26.0</td>\n",
       "      <td>2.915690e+05</td>\n",
       "      <td>2.073783e+05</td>\n",
       "      <td>137500.0</td>\n",
       "      <td>125000.0</td>\n",
       "    </tr>\n",
       "  </tbody>\n",
       "</table>\n",
       "</div>"
      ],
      "text/plain": [
       "                          total_leads           avg_budget                \\\n",
       "Год заявки                       2018   2019          2018          2019   \n",
       "Страна покупки или заявки                                                  \n",
       "Кипр                             42.0   81.0  4.849256e+05  3.810740e+05   \n",
       "Киргизия                          1.0    5.0  3.600000e+04  9.003800e+04   \n",
       "ОАЭ                              47.0  245.0  1.061385e+06  3.487962e+05   \n",
       "Турция                          134.0  134.0  3.454799e+05  1.039174e+06   \n",
       "Черногория                       36.0   26.0  2.915690e+05  2.073783e+05   \n",
       "\n",
       "                          median_budget            \n",
       "Год заявки                         2018      2019  \n",
       "Страна покупки или заявки                          \n",
       "Кипр                           300000.0  270000.0  \n",
       "Киргизия                        36000.0   21672.0  \n",
       "ОАЭ                            264435.0  240000.0  \n",
       "Турция                         120000.0  150000.0  \n",
       "Черногория                     137500.0  125000.0  "
      ]
     },
     "execution_count": 406,
     "metadata": {},
     "output_type": "execute_result"
    }
   ],
   "source": [
    "comparison_pivot"
   ]
  },
  {
   "cell_type": "markdown",
   "metadata": {},
   "source": [
    "Выводы по изменениям спроса и медианных бюджетов:\n",
    "\n",
    "ОАЭ показали самый значительный рост спроса (+421.3%) с увеличением заявок с 47 до 245. Однако, несмотря на увеличение спроса, медианный бюджет снизился на 9.2%. Это может свидетельствовать о привлечении большего числа заявок с более низкими бюджетами.\n",
    "\n",
    "Киргизия также продемонстрировала существенный рост спроса (+400%), но с резким снижением медианного бюджета на 39.8%. Это может быть связано с изменением структуры спроса или ориентацией на менее платежеспособных клиентов.\n",
    "\n",
    "Кипр показал стабильный рост спроса (+92.9%), увеличив количество заявок с 42 до 81, при этом медианный бюджет снизился на 10%. Это указывает на увеличение интереса, но с некоторым снижением среднего уровня платежеспособности клиентов.\n",
    "\n",
    "Турция продемонстрировала стабильность в спросе (0% изменений), сохраняя количество заявок на уровне 134. Однако медианный бюджет вырос на 25%, что говорит об увеличении платежеспособности клиентов, несмотря на отсутствие роста количества заявок.\n",
    "\n",
    "Черногория отметилась снижением спроса (-27.8%) и медианного бюджета (-9.1%). Это может быть признаком снижения интереса к данному направлению или уменьшения активности более крупных заказчиков.\n",
    "\n",
    "Общие наблюдения:\n",
    "Наиболее привлекательным направлением с точки зрения роста спроса стали ОАЭ, несмотря на снижение медианного бюджета.\n",
    "Киргизия и Кипр показывают рост интереса, но сопровождающийся снижением медианного бюджета.\n",
    "Турция демонстрирует повышение уровня платежеспособности без изменения спроса, что выделяет её среди других стран.\n",
    "Черногория находится в зоне снижения как спроса, так и бюджетов, что может потребовать дополнительных исследований и мер для восстановления интереса."
   ]
  },
  {
   "cell_type": "markdown",
   "metadata": {},
   "source": [
    "Средние данные по бюджетам сравнивать оказалось нецелесообразно, так как присутвуют сильные выбросы, искажающие на общую картину. Более правильно в данной ситуации будет обратиться к сранению медианных бюджетов, поскольку медиана менее подвержена влиянию аномальных значений или выбросов.\n"
   ]
  },
  {
   "cell_type": "markdown",
   "metadata": {},
   "source": [
    "## Задание 3.1"
   ]
  },
  {
   "cell_type": "markdown",
   "metadata": {},
   "source": [
    "В файле frankfurt_transactions.txt приведены данные об объемах\n",
    "транзакций инвестирования в офисную недвижимость Франкфурта с I кв. 2016\n",
    "по II кв. 2019 (в текущих ценах на конец соответствующего квартала). Дайте\n",
    "прогноз об объемах транзакций на III и IV кв. 2019 в предположении, что на\n",
    "рынке не произойдет резких изменений."
   ]
  },
  {
   "cell_type": "markdown",
   "metadata": {},
   "source": [
    "Считываю файл, сохраненный в моей локальной директории"
   ]
  },
  {
   "cell_type": "code",
   "execution_count": 407,
   "metadata": {},
   "outputs": [],
   "source": [
    "file_path = r'C:\\Users\\Julia\\Desktop\\frankfurt_transactions.txt'\n",
    "df = pd.read_csv(file_path, delimiter=';', encoding='utf-8')"
   ]
  },
  {
   "cell_type": "code",
   "execution_count": 408,
   "metadata": {},
   "outputs": [
    {
     "data": {
      "text/html": [
       "<div>\n",
       "<style scoped>\n",
       "    .dataframe tbody tr th:only-of-type {\n",
       "        vertical-align: middle;\n",
       "    }\n",
       "\n",
       "    .dataframe tbody tr th {\n",
       "        vertical-align: top;\n",
       "    }\n",
       "\n",
       "    .dataframe thead th {\n",
       "        text-align: right;\n",
       "    }\n",
       "</style>\n",
       "<table border=\"1\" class=\"dataframe\">\n",
       "  <thead>\n",
       "    <tr style=\"text-align: right;\">\n",
       "      <th></th>\n",
       "      <th>Год</th>\n",
       "      <th>Квартал</th>\n",
       "      <th>Объём транзакций, млн евро</th>\n",
       "    </tr>\n",
       "  </thead>\n",
       "  <tbody>\n",
       "    <tr>\n",
       "      <th>0</th>\n",
       "      <td>2016</td>\n",
       "      <td>I</td>\n",
       "      <td>1302,22</td>\n",
       "    </tr>\n",
       "    <tr>\n",
       "      <th>1</th>\n",
       "      <td>2016</td>\n",
       "      <td>II</td>\n",
       "      <td>1376,47</td>\n",
       "    </tr>\n",
       "    <tr>\n",
       "      <th>2</th>\n",
       "      <td>2016</td>\n",
       "      <td>III</td>\n",
       "      <td>1260,3</td>\n",
       "    </tr>\n",
       "    <tr>\n",
       "      <th>3</th>\n",
       "      <td>2016</td>\n",
       "      <td>IV</td>\n",
       "      <td>1407,78</td>\n",
       "    </tr>\n",
       "    <tr>\n",
       "      <th>4</th>\n",
       "      <td>2017</td>\n",
       "      <td>I</td>\n",
       "      <td>1444,16</td>\n",
       "    </tr>\n",
       "    <tr>\n",
       "      <th>5</th>\n",
       "      <td>2017</td>\n",
       "      <td>II</td>\n",
       "      <td>1292,52</td>\n",
       "    </tr>\n",
       "    <tr>\n",
       "      <th>6</th>\n",
       "      <td>2017</td>\n",
       "      <td>III</td>\n",
       "      <td>1387,19</td>\n",
       "    </tr>\n",
       "    <tr>\n",
       "      <th>7</th>\n",
       "      <td>2017</td>\n",
       "      <td>IV</td>\n",
       "      <td>1609,2</td>\n",
       "    </tr>\n",
       "    <tr>\n",
       "      <th>8</th>\n",
       "      <td>2018</td>\n",
       "      <td>I</td>\n",
       "      <td>1381,32</td>\n",
       "    </tr>\n",
       "    <tr>\n",
       "      <th>9</th>\n",
       "      <td>2018</td>\n",
       "      <td>II</td>\n",
       "      <td>1882,73</td>\n",
       "    </tr>\n",
       "    <tr>\n",
       "      <th>10</th>\n",
       "      <td>2018</td>\n",
       "      <td>III</td>\n",
       "      <td>1701,99</td>\n",
       "    </tr>\n",
       "    <tr>\n",
       "      <th>11</th>\n",
       "      <td>2018</td>\n",
       "      <td>IV</td>\n",
       "      <td>1906,93</td>\n",
       "    </tr>\n",
       "    <tr>\n",
       "      <th>12</th>\n",
       "      <td>2019</td>\n",
       "      <td>I</td>\n",
       "      <td>1697,64</td>\n",
       "    </tr>\n",
       "    <tr>\n",
       "      <th>13</th>\n",
       "      <td>2019</td>\n",
       "      <td>II</td>\n",
       "      <td>1904,62</td>\n",
       "    </tr>\n",
       "  </tbody>\n",
       "</table>\n",
       "</div>"
      ],
      "text/plain": [
       "     Год Квартал Объём транзакций, млн евро\n",
       "0   2016       I                    1302,22\n",
       "1   2016      II                    1376,47\n",
       "2   2016     III                     1260,3\n",
       "3   2016      IV                    1407,78\n",
       "4   2017       I                    1444,16\n",
       "5   2017      II                    1292,52\n",
       "6   2017     III                    1387,19\n",
       "7   2017      IV                     1609,2\n",
       "8   2018       I                    1381,32\n",
       "9   2018      II                    1882,73\n",
       "10  2018     III                    1701,99\n",
       "11  2018      IV                    1906,93\n",
       "12  2019       I                    1697,64\n",
       "13  2019      II                    1904,62"
      ]
     },
     "execution_count": 408,
     "metadata": {},
     "output_type": "execute_result"
    }
   ],
   "source": [
    "df"
   ]
  },
  {
   "cell_type": "markdown",
   "metadata": {},
   "source": [
    "Предобрабатываю данные"
   ]
  },
  {
   "cell_type": "code",
   "execution_count": 409,
   "metadata": {},
   "outputs": [],
   "source": [
    "# заменяю ',' на '.', преобразую строковых значений в числовые\n",
    "df['Объём транзакций, млн евро'] = df['Объём транзакций, млн евро'].str.replace(',', '.').astype(float)\n",
    "# сопоставляю кварталы с месяцами\n",
    "quarter_mapping = {'I': '01', 'II': '04', 'III': '07', 'IV': '10'}\n",
    "df['Месяц'] = df['Квартал'].map(quarter_mapping)\n",
    "# создаю столбец с датой\n",
    "df['Дата'] = pd.to_datetime(df['Год'].astype(str) + '-' + df['Месяц'] + '-01')\n",
    "# сортирую и осталяю данные для работы\n",
    "df = df[['Дата', 'Объём транзакций, млн евро']].sort_values('Дата')"
   ]
  },
  {
   "cell_type": "markdown",
   "metadata": {},
   "source": [
    "Строю график исторических данных"
   ]
  },
  {
   "cell_type": "code",
   "execution_count": 410,
   "metadata": {},
   "outputs": [
    {
     "data": {
      "image/png": "[encoded data removed]",
      "text/plain": [
       "<Figure size 1200x600 with 1 Axes>"
      ]
     },
     "metadata": {},
     "output_type": "display_data"
    }
   ],
   "source": [
    "plt.figure(figsize=(12, 6))\n",
    "plt.plot(df['Дата'], df['Объём транзакций, млн евро'], label='Исторические данные')\n",
    "plt.title('Объёмы транзакций в офисной недвижимости (Франкфурт)')\n",
    "plt.xlabel('Дата')\n",
    "plt.ylabel('Объём транзакций, млн евро')\n",
    "plt.legend()\n",
    "plt.grid()\n",
    "plt.show()"
   ]
  },
  {
   "cell_type": "markdown",
   "metadata": {},
   "source": [
    "Делаю прогнозирование с использованием модели Хольта-Винтерса. Я выбрала этот метод, потому что в наших данных есть сезонность."
   ]
  },
  {
   "cell_type": "code",
   "execution_count": null,
   "metadata": {},
   "outputs": [],
   "source": [
    "model = ExponentialSmoothing(  #задаю нужные парметры для модели\n",
    "    df['Объём транзакций, млн евро'],\n",
    "    trend='add',\n",
    "    seasonal='add',\n",
    "    seasonal_periods=4\n",
    ").fit()"
   ]
  },
  {
   "cell_type": "markdown",
   "metadata": {},
   "source": [
    "Прогноз на 2 квартала"
   ]
  },
  {
   "cell_type": "code",
   "execution_count": null,
   "metadata": {},
   "outputs": [],
   "source": [
    "# указываю нужно количество периодов (2 квартала) и и получаю последние данные, чтобы модель занала от какой точки нужно делать прогноз\n",
    "forecast_periods = 2\n",
    "last_date = df['Дата'].iloc[-1]\n",
    "\n",
    "# Создаю даты для прогнозируемых кварталов\n",
    "forecast_dates = pd.date_range(\n",
    "    start=last_date + pd.offsets.QuarterEnd(1),  # Сдвиг к следующему концу квартала\n",
    "    periods=forecast_periods,\n",
    "    freq='QE' \n",
    ")\n",
    "\n",
    "# Прогнозирую\n",
    "forecast = model.forecast(steps=forecast_periods)"
   ]
  },
  {
   "cell_type": "markdown",
   "metadata": {},
   "source": [
    "Формирование результатов прогноза"
   ]
  },
  {
   "cell_type": "code",
   "execution_count": 419,
   "metadata": {},
   "outputs": [],
   "source": [
    "forecast_results = pd.DataFrame({ \n",
    "    'Дата': forecast_dates,\n",
    "    'Прогнозируемый объём, млн евро': forecast\n",
    "})"
   ]
  },
  {
   "cell_type": "code",
   "execution_count": 420,
   "metadata": {},
   "outputs": [
    {
     "data": {
      "text/html": [
       "<div>\n",
       "<style scoped>\n",
       "    .dataframe tbody tr th:only-of-type {\n",
       "        vertical-align: middle;\n",
       "    }\n",
       "\n",
       "    .dataframe tbody tr th {\n",
       "        vertical-align: top;\n",
       "    }\n",
       "\n",
       "    .dataframe thead th {\n",
       "        text-align: right;\n",
       "    }\n",
       "</style>\n",
       "<table border=\"1\" class=\"dataframe\">\n",
       "  <thead>\n",
       "    <tr style=\"text-align: right;\">\n",
       "      <th></th>\n",
       "      <th>Дата</th>\n",
       "      <th>Прогнозируемый объём, млн евро</th>\n",
       "    </tr>\n",
       "  </thead>\n",
       "  <tbody>\n",
       "    <tr>\n",
       "      <th>14</th>\n",
       "      <td>2019-06-30</td>\n",
       "      <td>1822.929781</td>\n",
       "    </tr>\n",
       "    <tr>\n",
       "      <th>15</th>\n",
       "      <td>2019-09-30</td>\n",
       "      <td>2013.885095</td>\n",
       "    </tr>\n",
       "  </tbody>\n",
       "</table>\n",
       "</div>"
      ],
      "text/plain": [
       "         Дата  Прогнозируемый объём, млн евро\n",
       "14 2019-06-30                     1822.929781\n",
       "15 2019-09-30                     2013.885095"
      ]
     },
     "execution_count": 420,
     "metadata": {},
     "output_type": "execute_result"
    }
   ],
   "source": [
    "forecast_results"
   ]
  },
  {
   "cell_type": "markdown",
   "metadata": {},
   "source": [
    "График прогноза"
   ]
  },
  {
   "cell_type": "code",
   "execution_count": 415,
   "metadata": {},
   "outputs": [
    {
     "data": {
      "image/png": "[encoded data removed]",
      "text/plain": [
       "<Figure size 1200x600 with 1 Axes>"
      ]
     },
     "metadata": {},
     "output_type": "display_data"
    }
   ],
   "source": [
    "plt.figure(figsize=(12, 6))\n",
    "plt.plot(df['Дата'], df['Объём транзакций, млн евро'], label='Исторические данные', color='blue')\n",
    "plt.plot(\n",
    "    [df['Дата'].iloc[-1]] + list(forecast_dates),\n",
    "    [df['Объём транзакций, млн евро'].iloc[-1]] + list(forecast),\n",
    "    label='Прогноз (с учетом продолжения)', linestyle='--', color='orange'\n",
    ")\n",
    "plt.title('Прогноз объёмов транзакций (III и IV кварталы 2019 года)')\n",
    "plt.xlabel('Дата')\n",
    "plt.ylabel('Объём транзакций, млн евро')\n",
    "plt.legend()\n",
    "plt.grid()\n",
    "plt.show()\n"
   ]
  }
 ],
 "metadata": {
  "kernelspec": {
   "display_name": "Python 3",
   "language": "python",
   "name": "python3"
  },
  "language_info": {
   "codemirror_mode": {
    "name": "ipython",
    "version": 3
   },
   "file_extension": ".py",
   "mimetype": "text/x-python",
   "name": "python",
   "nbconvert_exporter": "python",
   "pygments_lexer": "ipython3",
   "version": "3.12.7"
  }
 },
 "nbformat": 4,
 "nbformat_minor": 2
}
